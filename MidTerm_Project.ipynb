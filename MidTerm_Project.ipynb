{
  "nbformat": 4,
  "nbformat_minor": 0,
  "metadata": {
    "colab": {
      "provenance": []
    },
    "kernelspec": {
      "name": "python3",
      "display_name": "Python 3"
    },
    "language_info": {
      "name": "python"
    },
    "gpuClass": "standard",
    "accelerator": "GPU"
  },
  "cells": [
    {
      "cell_type": "markdown",
      "source": [
        "## Read Dataset"
      ],
      "metadata": {
        "id": "EuMbR2BaIbCH"
      }
    },
    {
      "cell_type": "markdown",
      "source": [
        "讀入資料集"
      ],
      "metadata": {
        "id": "0-YQ6nJo6isj"
      }
    },
    {
      "cell_type": "code",
      "execution_count": 2,
      "metadata": {
        "colab": {
          "base_uri": "https://localhost:8080/"
        },
        "id": "smGfPwCpGOuz",
        "outputId": "73e50060-5f5d-451a-a28a-b005fc4a2eaa"
      },
      "outputs": [
        {
          "output_type": "stream",
          "name": "stdout",
          "text": [
            "/usr/local/lib/python3.9/dist-packages/gdown/cli.py:121: FutureWarning: Option `--id` was deprecated in version 4.3.1 and will be removed in 5.0. You don't need to pass it anymore to use a file ID.\n",
            "  warnings.warn(\n",
            "Downloading...\n",
            "From: https://drive.google.com/uc?id=1qCHfycy91EyUFzilBvxu8hYVYp0l6jCh\n",
            "To: /tmp/MidTerm_Dataset.zip\n",
            "100% 50.4M/50.4M [00:00<00:00, 201MB/s]\n"
          ]
        }
      ],
      "source": [
        "# Copy datasets on the drive to the tmp folder\n",
        "!gdown --id '1qCHfycy91EyUFzilBvxu8hYVYp0l6jCh' --output /tmp/MidTerm_Dataset.zip\n",
        "\n",
        "import os\n",
        "import zipfile\n",
        "\n",
        "# Unzip\n",
        "local_zip = '/tmp/MidTerm_Dataset.zip'\n",
        "zip_ref = zipfile.ZipFile(local_zip, 'r')\n",
        "zip_ref.extractall('/tmp')\n",
        "zip_ref.close()"
      ]
    },
    {
      "cell_type": "markdown",
      "source": [
        "確認雲端的資料夾是否存在資料集"
      ],
      "metadata": {
        "id": "8coqDhEm6qdT"
      }
    },
    {
      "cell_type": "code",
      "source": [
        "# Check files extracted with ls\n",
        "!ls /tmp/MidTerm_Dataset"
      ],
      "metadata": {
        "colab": {
          "base_uri": "https://localhost:8080/"
        },
        "id": "6LG5V659J9Dc",
        "outputId": "be0ec64e-1bf8-4709-8699-20e92ac39427"
      },
      "execution_count": 3,
      "outputs": [
        {
          "output_type": "stream",
          "name": "stdout",
          "text": [
            "Test  Train\n"
          ]
        }
      ]
    },
    {
      "cell_type": "markdown",
      "source": [
        "## Data Preprocessing"
      ],
      "metadata": {
        "id": "Kroh1j1c8F5H"
      }
    },
    {
      "cell_type": "markdown",
      "source": [
        "統一輸進之資料格式大小"
      ],
      "metadata": {
        "id": "TPMwF7gD8mrj"
      }
    },
    {
      "cell_type": "code",
      "source": [
        "# Define input shape of the data\n",
        "input_shape = (224, 224, 3)"
      ],
      "metadata": {
        "id": "G79zKr2kbyod"
      },
      "execution_count": 4,
      "outputs": []
    },
    {
      "cell_type": "markdown",
      "source": [
        "資料前處理"
      ],
      "metadata": {
        "id": "8mIqCdDO9CsD"
      }
    },
    {
      "cell_type": "code",
      "source": [
        "from keras.preprocessing.image import ImageDataGenerator\n",
        "\n",
        "train_datagen = ImageDataGenerator(rescale=1./255,\n",
        "                    rotation_range=20,\n",
        "                    width_shift_range=0.2,\n",
        "                    height_shift_range=0.2,\n",
        "                    shear_range=0.2,\n",
        "                    zoom_range=0.2,\n",
        "                    brightness_range=[0.5, 1.5],\n",
        "                    horizontal_flip=True)\n",
        "\n",
        "test_datagen = ImageDataGenerator(rescale=1./255)\n",
        "\n",
        "train_generator = train_datagen.flow_from_directory('/tmp/MidTerm_Dataset/Train',\n",
        "                             target_size=input_shape[:2],\n",
        "                             batch_size=32,\n",
        "                             class_mode='categorical')\n",
        "\n",
        "validation_generator = test_datagen.flow_from_directory('/tmp/MidTerm_Dataset/Test',\n",
        "                                target_size=input_shape[:2],\n",
        "                                batch_size=1,\n",
        "                                class_mode='categorical',\n",
        "                                shuffle=False)"
      ],
      "metadata": {
        "colab": {
          "base_uri": "https://localhost:8080/"
        },
        "id": "aALO5MGub4dB",
        "outputId": "249efa14-f897-4c41-990d-7669cc3dd7f7"
      },
      "execution_count": 5,
      "outputs": [
        {
          "output_type": "stream",
          "name": "stdout",
          "text": [
            "Found 6092 images belonging to 4 classes.\n",
            "Found 1524 images belonging to 4 classes.\n"
          ]
        }
      ]
    },
    {
      "cell_type": "markdown",
      "source": [
        "## Model"
      ],
      "metadata": {
        "id": "7jQK4oj19zJ-"
      }
    },
    {
      "cell_type": "markdown",
      "source": [
        "**Define model architecture** "
      ],
      "metadata": {
        "id": "NPl5MlK9-595"
      }
    },
    {
      "cell_type": "markdown",
      "source": [
        "模型加入池化層可多次，此重複四次"
      ],
      "metadata": {
        "id": "c_A4x2JG-Xcj"
      }
    },
    {
      "cell_type": "markdown",
      "source": [
        "使用summary顯示模型概覽"
      ],
      "metadata": {
        "id": "tnSrupQe9-nD"
      }
    },
    {
      "cell_type": "code",
      "source": [
        "from keras.models import Sequential\n",
        "from keras.layers import Conv2D, MaxPooling2D, Flatten, Dense, Dropout\n",
        "\n",
        "num_classes = 4\n",
        "\n",
        "model = Sequential()\n",
        "\n",
        "model.add(Conv2D(32, (3, 3), activation='relu', input_shape=input_shape))\n",
        "model.add(MaxPooling2D((2, 2)))\n",
        "\n",
        "model.add(Conv2D(64, (3, 3), activation='relu'))\n",
        "model.add(MaxPooling2D((2, 2)))\n",
        "\n",
        "model.add(Conv2D(128, (3, 3), activation='relu'))\n",
        "model.add(MaxPooling2D((2, 2)))\n",
        "\n",
        "model.add(Conv2D(256, (3, 3), activation='relu'))\n",
        "model.add(MaxPooling2D((2, 2)))\n",
        "\n",
        "model.add(Flatten())\n",
        "\n",
        "model.add(Dropout(0.5))\n",
        "model.add(Dense(512, activation='relu'))\n",
        "\n",
        "model.add(Dense(num_classes, activation='softmax'))\n",
        "\n",
        "model.summary()"
      ],
      "metadata": {
        "colab": {
          "base_uri": "https://localhost:8080/"
        },
        "id": "kky76JpzcFv1",
        "outputId": "c4bc2c2f-742f-4070-de10-bf6fe471c4a7"
      },
      "execution_count": 7,
      "outputs": [
        {
          "output_type": "stream",
          "name": "stdout",
          "text": [
            "Model: \"sequential_1\"\n",
            "_________________________________________________________________\n",
            " Layer (type)                Output Shape              Param #   \n",
            "=================================================================\n",
            " conv2d_4 (Conv2D)           (None, 222, 222, 32)      896       \n",
            "                                                                 \n",
            " max_pooling2d_4 (MaxPooling  (None, 111, 111, 32)     0         \n",
            " 2D)                                                             \n",
            "                                                                 \n",
            " conv2d_5 (Conv2D)           (None, 109, 109, 64)      18496     \n",
            "                                                                 \n",
            " max_pooling2d_5 (MaxPooling  (None, 54, 54, 64)       0         \n",
            " 2D)                                                             \n",
            "                                                                 \n",
            " conv2d_6 (Conv2D)           (None, 52, 52, 128)       73856     \n",
            "                                                                 \n",
            " max_pooling2d_6 (MaxPooling  (None, 26, 26, 128)      0         \n",
            " 2D)                                                             \n",
            "                                                                 \n",
            " conv2d_7 (Conv2D)           (None, 24, 24, 256)       295168    \n",
            "                                                                 \n",
            " max_pooling2d_7 (MaxPooling  (None, 12, 12, 256)      0         \n",
            " 2D)                                                             \n",
            "                                                                 \n",
            " flatten_1 (Flatten)         (None, 36864)             0         \n",
            "                                                                 \n",
            " dropout_1 (Dropout)         (None, 36864)             0         \n",
            "                                                                 \n",
            " dense_1 (Dense)             (None, 512)               18874880  \n",
            "                                                                 \n",
            " dense_2 (Dense)             (None, 4)                 2052      \n",
            "                                                                 \n",
            "=================================================================\n",
            "Total params: 19,265,348\n",
            "Trainable params: 19,265,348\n",
            "Non-trainable params: 0\n",
            "_________________________________________________________________\n"
          ]
        }
      ]
    },
    {
      "cell_type": "markdown",
      "source": [
        "**Model compiltion**"
      ],
      "metadata": {
        "id": "eIlTM4wf-v2K"
      }
    },
    {
      "cell_type": "code",
      "source": [
        "model.compile(loss='categorical_crossentropy', optimizer='adam', metrics=['accuracy'])"
      ],
      "metadata": {
        "id": "Aq1lOkYAcUfW"
      },
      "execution_count": 8,
      "outputs": []
    },
    {
      "cell_type": "markdown",
      "source": [
        "**Model Training**"
      ],
      "metadata": {
        "id": "Tpjh0RHu_fIn"
      }
    },
    {
      "cell_type": "code",
      "source": [
        "history = model.fit(train_generator,\n",
        "              steps_per_epoch=train_generator.n//train_generator.batch_size,\n",
        "              epochs=30,\n",
        "              validation_data=validation_generator,\n",
        "              validation_steps=validation_generator.n//validation_generator.batch_size)"
      ],
      "metadata": {
        "colab": {
          "base_uri": "https://localhost:8080/"
        },
        "id": "tEShxTlMcZmA",
        "outputId": "c598c15c-1220-4082-f521-10b4380ad13e"
      },
      "execution_count": 9,
      "outputs": [
        {
          "output_type": "stream",
          "name": "stdout",
          "text": [
            "Epoch 1/30\n",
            "190/190 [==============================] - 97s 449ms/step - loss: 1.3755 - accuracy: 0.2970 - val_loss: 1.1008 - val_accuracy: 0.5315\n",
            "Epoch 2/30\n",
            "190/190 [==============================] - 84s 444ms/step - loss: 0.8327 - accuracy: 0.6312 - val_loss: 0.6066 - val_accuracy: 0.7513\n",
            "Epoch 3/30\n",
            "190/190 [==============================] - 84s 444ms/step - loss: 0.5999 - accuracy: 0.7477 - val_loss: 0.4483 - val_accuracy: 0.8248\n",
            "Epoch 4/30\n",
            "190/190 [==============================] - 84s 442ms/step - loss: 0.5348 - accuracy: 0.7757 - val_loss: 0.4048 - val_accuracy: 0.8222\n",
            "Epoch 5/30\n",
            "190/190 [==============================] - 86s 453ms/step - loss: 0.4873 - accuracy: 0.8007 - val_loss: 0.3930 - val_accuracy: 0.8392\n",
            "Epoch 6/30\n",
            "190/190 [==============================] - 85s 446ms/step - loss: 0.4785 - accuracy: 0.8058 - val_loss: 0.4317 - val_accuracy: 0.8143\n",
            "Epoch 7/30\n",
            "190/190 [==============================] - 85s 447ms/step - loss: 0.4331 - accuracy: 0.8211 - val_loss: 0.4462 - val_accuracy: 0.8274\n",
            "Epoch 8/30\n",
            "190/190 [==============================] - 85s 446ms/step - loss: 0.4274 - accuracy: 0.8292 - val_loss: 0.4386 - val_accuracy: 0.8215\n",
            "Epoch 9/30\n",
            "190/190 [==============================] - 85s 445ms/step - loss: 0.3992 - accuracy: 0.8376 - val_loss: 0.3110 - val_accuracy: 0.8786\n",
            "Epoch 10/30\n",
            "190/190 [==============================] - 83s 436ms/step - loss: 0.3808 - accuracy: 0.8500 - val_loss: 0.4085 - val_accuracy: 0.8694\n",
            "Epoch 11/30\n",
            "190/190 [==============================] - 85s 446ms/step - loss: 0.3782 - accuracy: 0.8518 - val_loss: 0.2381 - val_accuracy: 0.8930\n",
            "Epoch 12/30\n",
            "190/190 [==============================] - 85s 446ms/step - loss: 0.3500 - accuracy: 0.8640 - val_loss: 0.3199 - val_accuracy: 0.8727\n",
            "Epoch 13/30\n",
            "190/190 [==============================] - 85s 449ms/step - loss: 0.3242 - accuracy: 0.8711 - val_loss: 0.2409 - val_accuracy: 0.9022\n",
            "Epoch 14/30\n",
            "190/190 [==============================] - 86s 451ms/step - loss: 0.3223 - accuracy: 0.8731 - val_loss: 0.2326 - val_accuracy: 0.9127\n",
            "Epoch 15/30\n",
            "190/190 [==============================] - 85s 448ms/step - loss: 0.3030 - accuracy: 0.8847 - val_loss: 0.2533 - val_accuracy: 0.9049\n",
            "Epoch 16/30\n",
            "190/190 [==============================] - 84s 444ms/step - loss: 0.3030 - accuracy: 0.8835 - val_loss: 0.2467 - val_accuracy: 0.9049\n",
            "Epoch 17/30\n",
            "190/190 [==============================] - 86s 452ms/step - loss: 0.2893 - accuracy: 0.8911 - val_loss: 0.2443 - val_accuracy: 0.9206\n",
            "Epoch 18/30\n",
            "190/190 [==============================] - 84s 441ms/step - loss: 0.2835 - accuracy: 0.8947 - val_loss: 0.2520 - val_accuracy: 0.8957\n",
            "Epoch 19/30\n",
            "190/190 [==============================] - 84s 444ms/step - loss: 0.2778 - accuracy: 0.8969 - val_loss: 0.1966 - val_accuracy: 0.9272\n",
            "Epoch 20/30\n",
            "190/190 [==============================] - 88s 462ms/step - loss: 0.2785 - accuracy: 0.8917 - val_loss: 0.2041 - val_accuracy: 0.9259\n",
            "Epoch 21/30\n",
            "190/190 [==============================] - 89s 466ms/step - loss: 0.2616 - accuracy: 0.8995 - val_loss: 0.1673 - val_accuracy: 0.9344\n",
            "Epoch 22/30\n",
            "190/190 [==============================] - 84s 442ms/step - loss: 0.2471 - accuracy: 0.9050 - val_loss: 0.2303 - val_accuracy: 0.9121\n",
            "Epoch 23/30\n",
            "190/190 [==============================] - 83s 436ms/step - loss: 0.2354 - accuracy: 0.9137 - val_loss: 0.1565 - val_accuracy: 0.9429\n",
            "Epoch 24/30\n",
            "190/190 [==============================] - 84s 444ms/step - loss: 0.2469 - accuracy: 0.9076 - val_loss: 0.1561 - val_accuracy: 0.9455\n",
            "Epoch 25/30\n",
            "190/190 [==============================] - 85s 447ms/step - loss: 0.2313 - accuracy: 0.9087 - val_loss: 0.1812 - val_accuracy: 0.9291\n",
            "Epoch 26/30\n",
            "190/190 [==============================] - 84s 441ms/step - loss: 0.2332 - accuracy: 0.9114 - val_loss: 0.1515 - val_accuracy: 0.9442\n",
            "Epoch 27/30\n",
            "190/190 [==============================] - 84s 442ms/step - loss: 0.2205 - accuracy: 0.9172 - val_loss: 0.1309 - val_accuracy: 0.9573\n",
            "Epoch 28/30\n",
            "190/190 [==============================] - 84s 441ms/step - loss: 0.2269 - accuracy: 0.9177 - val_loss: 0.1241 - val_accuracy: 0.9554\n",
            "Epoch 29/30\n",
            "190/190 [==============================] - 84s 441ms/step - loss: 0.2059 - accuracy: 0.9215 - val_loss: 0.1403 - val_accuracy: 0.9482\n",
            "Epoch 30/30\n",
            "190/190 [==============================] - 84s 439ms/step - loss: 0.2015 - accuracy: 0.9244 - val_loss: 0.1548 - val_accuracy: 0.9462\n"
          ]
        }
      ]
    },
    {
      "cell_type": "markdown",
      "source": [
        "**Plot accuracy of traning and validation**"
      ],
      "metadata": {
        "id": "V73EnoGA_wSb"
      }
    },
    {
      "cell_type": "code",
      "source": [
        "import matplotlib.pyplot as plt\n",
        "\n",
        "plt.plot(history.history['accuracy'], label='training accuracy')\n",
        "plt.plot(history.history['val_accuracy'], label='validation accuracy')\n",
        "plt.legend()\n",
        "plt.show()"
      ],
      "metadata": {
        "colab": {
          "base_uri": "https://localhost:8080/",
          "height": 430
        },
        "id": "--ybd6dXdL2e",
        "outputId": "3c075a9e-eb44-4a9b-9808-535f22f5ece0"
      },
      "execution_count": 10,
      "outputs": [
        {
          "output_type": "display_data",
          "data": {
            "text/plain": [
              "<Figure size 640x480 with 1 Axes>"
            ],
            "image/png": "[encoded data removed]"
          },
          "metadata": {}
        }
      ]
    },
    {
      "cell_type": "markdown",
      "source": [
        "**Plot loss of traning and validation**"
      ],
      "metadata": {
        "id": "ys7mLoLmADuB"
      }
    },
    {
      "cell_type": "code",
      "source": [
        "import matplotlib.pyplot as plt\n",
        "\n",
        "plt.plot(history.history['loss'], label='training loss')\n",
        "plt.plot(history.history['val_loss'], label='validation loss')\n",
        "plt.legend()\n",
        "plt.show()"
      ],
      "metadata": {
        "colab": {
          "base_uri": "https://localhost:8080/",
          "height": 430
        },
        "id": "L5znVpPQ5Xql",
        "outputId": "36911ed4-aa07-4aa8-9eaf-c4f4693aa732"
      },
      "execution_count": 11,
      "outputs": [
        {
          "output_type": "display_data",
          "data": {
            "text/plain": [
              "<Figure size 640x480 with 1 Axes>"
            ],
            "image/png": "[encoded data removed]"
          },
          "metadata": {}
        }
      ]
    },
    {
      "cell_type": "markdown",
      "source": [
        "**Test accuracy and Test loss**"
      ],
      "metadata": {
        "id": "5hTtpLF7A9EW"
      }
    },
    {
      "cell_type": "markdown",
      "source": [
        "印出Test accuracy"
      ],
      "metadata": {
        "id": "yyx9d8RPBLKx"
      }
    },
    {
      "cell_type": "code",
      "source": [
        "# Evaluate the model on the test set\n",
        "test_loss, test_acc = model.evaluate(validation_generator, verbose=2)\n",
        "print('Test accuracy:', test_acc)"
      ],
      "metadata": {
        "colab": {
          "base_uri": "https://localhost:8080/"
        },
        "id": "ZWy8g4M5dNOB",
        "outputId": "42d64a14-f38a-4c82-ce12-f1559cdbf1bf"
      },
      "execution_count": 12,
      "outputs": [
        {
          "output_type": "stream",
          "name": "stdout",
          "text": [
            "1524/1524 - 6s - loss: 0.1548 - accuracy: 0.9462 - 6s/epoch - 4ms/step\n",
            "Test accuracy: 0.9461942315101624\n"
          ]
        }
      ]
    },
    {
      "cell_type": "markdown",
      "source": [
        "印出Test loss"
      ],
      "metadata": {
        "id": "PUJG_qA2BlWi"
      }
    },
    {
      "cell_type": "code",
      "source": [
        "# Evaluate the model on the test set\n",
        "print('Test loss:', test_loss)"
      ],
      "metadata": {
        "colab": {
          "base_uri": "https://localhost:8080/"
        },
        "id": "NXI8gYK6BQZ1",
        "outputId": "645274c4-7360-45cf-e13d-7c5ba1db275b"
      },
      "execution_count": 13,
      "outputs": [
        {
          "output_type": "stream",
          "name": "stdout",
          "text": [
            "Test loss: 0.15475043654441833\n"
          ]
        }
      ]
    },
    {
      "cell_type": "markdown",
      "source": [
        "## Make A Prediction by Giving A Picture"
      ],
      "metadata": {
        "id": "ukUczwzm59uc"
      }
    },
    {
      "cell_type": "code",
      "source": [
        "# make a prediction on a new image\n",
        "from google.colab import files\n",
        "from tensorflow.keras.preprocessing.image import load_img, img_to_array\n",
        "import numpy as np\n",
        "\n",
        "uploaded = files.upload()\n",
        "\n",
        "for fn in uploaded.keys():\n",
        "\n",
        "    # predicting images\n",
        "    path = '/tmp/' + fn\n",
        "    img = load_img(path, target_size=(224, 224))\n",
        "\n",
        "    x = img_to_array(img)\n",
        "    x = np.expand_dims(x, axis=0)\n",
        "    #images = np.vstack([x])\n",
        "    classes = model.predict(x)\n",
        "\n",
        "    class_names = ['Bolt', 'Locating Pin', 'Nut', 'Washer']\n",
        "    predicted_class = class_names[np.argmax(classes)]\n",
        "    confidence = np.max(classes)\n",
        "\n",
        "    print(f\"{fn} is a {predicted_class} with confidence {confidence:.2f}\")"
      ],
      "metadata": {
        "colab": {
          "base_uri": "https://localhost:8080/",
          "height": 110
        },
        "id": "0FtKm09kenun",
        "outputId": "6cbcc80b-b3a4-4041-a567-c11386bbd462"
      },
      "execution_count": null,
      "outputs": [
        {
          "output_type": "display_data",
          "data": {
            "text/plain": [
              "<IPython.core.display.HTML object>"
            ],
            "text/html": [
              "\n",
              "     <input type=\"file\" id=\"files-2edec73a-ef15-47b8-9601-218d16662f61\" name=\"files[]\" multiple disabled\n",
              "        style=\"border:none\" />\n",
              "     <output id=\"result-2edec73a-ef15-47b8-9601-218d16662f61\">\n",
              "      Upload widget is only available when the cell has been executed in the\n",
              "      current browser session. Please rerun this cell to enable.\n",
              "      </output>\n",
              "      <script>// Copyright 2017 Google LLC\n",
              "//\n",
              "// Licensed under the Apache License, Version 2.0 (the \"License\");\n",
              "// you may not use this file except in compliance with the License.\n",
              "// You may obtain a copy of the License at\n",
              "//\n",
              "//      http://www.apache.org/licenses/LICENSE-2.0\n",
              "//\n",
              "// Unless required by applicable law or agreed to in writing, software\n",
              "// distributed under the License is distributed on an \"AS IS\" BASIS,\n",
              "// WITHOUT WARRANTIES OR CONDITIONS OF ANY KIND, either express or implied.\n",
              "// See the License for the specific language governing permissions and\n",
              "// limitations under the License.\n",
              "\n",
              "/**\n",
              " * @fileoverview Helpers for google.colab Python module.\n",
              " */\n",
              "(function(scope) {\n",
              "function span(text, styleAttributes = {}) {\n",
              "  const element = document.createElement('span');\n",
              "  element.textContent = text;\n",
              "  for (const key of Object.keys(styleAttributes)) {\n",
              "    element.style[key] = styleAttributes[key];\n",
              "  }\n",
              "  return element;\n",
              "}\n",
              "\n",
              "// Max number of bytes which will be uploaded at a time.\n",
              "const MAX_PAYLOAD_SIZE = 100 * 1024;\n",
              "\n",
              "function _uploadFiles(inputId, outputId) {\n",
              "  const steps = uploadFilesStep(inputId, outputId);\n",
              "  const outputElement = document.getElementById(outputId);\n",
              "  // Cache steps on the outputElement to make it available for the next call\n",
              "  // to uploadFilesContinue from Python.\n",
              "  outputElement.steps = steps;\n",
              "\n",
              "  return _uploadFilesContinue(outputId);\n",
              "}\n",
              "\n",
              "// This is roughly an async generator (not supported in the browser yet),\n",
              "// where there are multiple asynchronous steps and the Python side is going\n",
              "// to poll for completion of each step.\n",
              "// This uses a Promise to block the python side on completion of each step,\n",
              "// then passes the result of the previous step as the input to the next step.\n",
              "function _uploadFilesContinue(outputId) {\n",
              "  const outputElement = document.getElementById(outputId);\n",
              "  const steps = outputElement.steps;\n",
              "\n",
              "  const next = steps.next(outputElement.lastPromiseValue);\n",
              "  return Promise.resolve(next.value.promise).then((value) => {\n",
              "    // Cache the last promise value to make it available to the next\n",
              "    // step of the generator.\n",
              "    outputElement.lastPromiseValue = value;\n",
              "    return next.value.response;\n",
              "  });\n",
              "}\n",
              "\n",
              "/**\n",
              " * Generator function which is called between each async step of the upload\n",
              " * process.\n",
              " * @param {string} inputId Element ID of the input file picker element.\n",
              " * @param {string} outputId Element ID of the output display.\n",
              " * @return {!Iterable<!Object>} Iterable of next steps.\n",
              " */\n",
              "function* uploadFilesStep(inputId, outputId) {\n",
              "  const inputElement = document.getElementById(inputId);\n",
              "  inputElement.disabled = false;\n",
              "\n",
              "  const outputElement = document.getElementById(outputId);\n",
              "  outputElement.innerHTML = '';\n",
              "\n",
              "  const pickedPromise = new Promise((resolve) => {\n",
              "    inputElement.addEventListener('change', (e) => {\n",
              "      resolve(e.target.files);\n",
              "    });\n",
              "  });\n",
              "\n",
              "  const cancel = document.createElement('button');\n",
              "  inputElement.parentElement.appendChild(cancel);\n",
              "  cancel.textContent = 'Cancel upload';\n",
              "  const cancelPromise = new Promise((resolve) => {\n",
              "    cancel.onclick = () => {\n",
              "      resolve(null);\n",
              "    };\n",
              "  });\n",
              "\n",
              "  // Wait for the user to pick the files.\n",
              "  const files = yield {\n",
              "    promise: Promise.race([pickedPromise, cancelPromise]),\n",
              "    response: {\n",
              "      action: 'starting',\n",
              "    }\n",
              "  };\n",
              "\n",
              "  cancel.remove();\n",
              "\n",
              "  // Disable the input element since further picks are not allowed.\n",
              "  inputElement.disabled = true;\n",
              "\n",
              "  if (!files) {\n",
              "    return {\n",
              "      response: {\n",
              "        action: 'complete',\n",
              "      }\n",
              "    };\n",
              "  }\n",
              "\n",
              "  for (const file of files) {\n",
              "    const li = document.createElement('li');\n",
              "    li.append(span(file.name, {fontWeight: 'bold'}));\n",
              "    li.append(span(\n",
              "        `(${file.type || 'n/a'}) - ${file.size} bytes, ` +\n",
              "        `last modified: ${\n",
              "            file.lastModifiedDate ? file.lastModifiedDate.toLocaleDateString() :\n",
              "                                    'n/a'} - `));\n",
              "    const percent = span('0% done');\n",
              "    li.appendChild(percent);\n",
              "\n",
              "    outputElement.appendChild(li);\n",
              "\n",
              "    const fileDataPromise = new Promise((resolve) => {\n",
              "      const reader = new FileReader();\n",
              "      reader.onload = (e) => {\n",
              "        resolve(e.target.result);\n",
              "      };\n",
              "      reader.readAsArrayBuffer(file);\n",
              "    });\n",
              "    // Wait for the data to be ready.\n",
              "    let fileData = yield {\n",
              "      promise: fileDataPromise,\n",
              "      response: {\n",
              "        action: 'continue',\n",
              "      }\n",
              "    };\n",
              "\n",
              "    // Use a chunked sending to avoid message size limits. See b/62115660.\n",
              "    let position = 0;\n",
              "    do {\n",
              "      const length = Math.min(fileData.byteLength - position, MAX_PAYLOAD_SIZE);\n",
              "      const chunk = new Uint8Array(fileData, position, length);\n",
              "      position += length;\n",
              "\n",
              "      const base64 = btoa(String.fromCharCode.apply(null, chunk));\n",
              "      yield {\n",
              "        response: {\n",
              "          action: 'append',\n",
              "          file: file.name,\n",
              "          data: base64,\n",
              "        },\n",
              "      };\n",
              "\n",
              "      let percentDone = fileData.byteLength === 0 ?\n",
              "          100 :\n",
              "          Math.round((position / fileData.byteLength) * 100);\n",
              "      percent.textContent = `${percentDone}% done`;\n",
              "\n",
              "    } while (position < fileData.byteLength);\n",
              "  }\n",
              "\n",
              "  // All done.\n",
              "  yield {\n",
              "    response: {\n",
              "      action: 'complete',\n",
              "    }\n",
              "  };\n",
              "}\n",
              "\n",
              "scope.google = scope.google || {};\n",
              "scope.google.colab = scope.google.colab || {};\n",
              "scope.google.colab._files = {\n",
              "  _uploadFiles,\n",
              "  _uploadFilesContinue,\n",
              "};\n",
              "})(self);\n",
              "</script> "
            ]
          },
          "metadata": {}
        },
        {
          "output_type": "stream",
          "name": "stdout",
          "text": [
            "Saving 327.png to 327.png\n",
            "1/1 [==============================] - 0s 20ms/step\n",
            "327.png is a Bolt with confidence 1.00\n"
          ]
        }
      ]
    },
    {
      "cell_type": "markdown",
      "source": [
        "## 其他工作區"
      ],
      "metadata": {
        "id": "Q7BtAhIOcjm1"
      }
    }
  ]
}